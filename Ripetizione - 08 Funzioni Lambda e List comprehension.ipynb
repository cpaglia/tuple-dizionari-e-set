{
 "cells": [
  {
   "cell_type": "markdown",
   "metadata": {},
   "source": [
    "## Funzioni lambda\n",
    "\n",
    "Le funzioni lambda sono funzioni **anonime** cioè senza nome. Si usano per creare funzioni da usare rapidamente. Sono utili soprattutto per definire funzioni che accettano altre funzioni come parametro.\n",
    "\n",
    "Consideriamo questa funzione:"
   ]
  },
  {
   "cell_type": "code",
   "execution_count": null,
   "metadata": {},
   "outputs": [],
   "source": [
    "def moltiplica(x, y):\n",
    "    return x * y"
   ]
  },
  {
   "cell_type": "markdown",
   "metadata": {},
   "source": [
    "che può essere riscritta come funzione lambda:"
   ]
  },
  {
   "cell_type": "code",
   "execution_count": null,
   "metadata": {},
   "outputs": [],
   "source": [
    "moltiplica = lambda x, y: x * y"
   ]
  },
  {
   "cell_type": "markdown",
   "metadata": {},
   "source": [
    "La chiamata è uguale alla chiamata di una funzione semplice"
   ]
  },
  {
   "cell_type": "code",
   "execution_count": null,
   "metadata": {},
   "outputs": [],
   "source": [
    "moltiplica(4, 7)"
   ]
  },
  {
   "cell_type": "markdown",
   "metadata": {},
   "source": [
    "La dichiarazione inizia con la parola chiave `lambda` che indica che si tratta di una funzione lambda.\n",
    "\n",
    "Dopo `lambda` scriviamo i parametri della funzione anonima separati da virgola e seguiti dai due punti. \n",
    "\n",
    "Alla fine si scrive ciò che viene restituito dalla funzione come se fosse un'istruzione `return`.\n",
    "\n",
    "Questa struttura è ideale per funzioni molto semplici ma non si può usare con funzioni complesse."
   ]
  },
  {
   "cell_type": "markdown",
   "metadata": {},
   "source": [
    "## List comprehension\n",
    "\n",
    "In Python si possono creare liste molto velocemente e in modo conciso. Un esercizio della lezione precedente richiedeva di ottenere da una lista di stringhe un'altra lista contenente le stesse stringhe ma con l'iniziale maiuscola. La soluzione proposta era questa:"
   ]
  },
  {
   "cell_type": "code",
   "execution_count": 4,
   "metadata": {},
   "outputs": [
    {
     "name": "stdout",
     "output_type": "stream",
     "text": [
      "['Ciao', 'Come', 'Stai']\n"
     ]
    }
   ],
   "source": [
    "lista_stringhe = ['ciao', 'come', 'Stai']\n",
    "iniziale_maiuscola = []\n",
    "for stringa in lista_stringhe:\n",
    "\tiniziale_maiuscola.append(stringa.title())\n",
    "print(iniziale_maiuscola)"
   ]
  },
  {
   "cell_type": "markdown",
   "metadata": {},
   "source": [
    "Con la list comprehension possiamo ottenere lo stesso risultato scrivendo meno codice e con tempi di esecuzione più bassi (quindi programma più efficiente):"
   ]
  },
  {
   "cell_type": "code",
   "execution_count": 6,
   "metadata": {},
   "outputs": [
    {
     "name": "stdout",
     "output_type": "stream",
     "text": [
      "['Ciao', 'Come', 'Stai']\n"
     ]
    }
   ],
   "source": [
    "iniziale_maiuscola = [stringa.title() for stringa in lista_stringhe]\n",
    "print(iniziale_maiuscola)"
   ]
  },
  {
   "cell_type": "markdown",
   "metadata": {},
   "source": [
    "L'operazione di list comprehension è sempre racchiusa da parentesi quadre e contiene un'espressione da valutare per ogni elemento contenuto in una lista di partenza (in questo caso è la variabile lista_stringhe). L'esempio qui su applica il metodo title() ad ogni elemento contenuto nella lista di partenza per creare un nuovo elemento della nuova lista iniziale_maiuscola\n",
    "\n",
    "### List comprehension con condizioni"
   ]
  },
  {
   "cell_type": "code",
   "execution_count": 8,
   "metadata": {},
   "outputs": [
    {
     "name": "stdout",
     "output_type": "stream",
     "text": [
      "[0, 4, 16, 36, 64]\n"
     ]
    }
   ],
   "source": [
    "quadrati = [x**2 for x in range(9) if x % 2 == 0]\n",
    "print(quadrati) \n"
   ]
  },
  {
   "cell_type": "markdown",
   "metadata": {},
   "source": [
    "Il codice qui sopra produce come risultato la lista [0, 4, 16, 36, 64], perché calcola il quadrato del numero nel range (da 0 a 8) solo se il numero è pari. \n",
    "\n",
    "Si può aggiungere anche l'else ma NON come nel codice qui di seguito:"
   ]
  },
  {
   "cell_type": "code",
   "execution_count": null,
   "metadata": {},
   "outputs": [],
   "source": [
    "quadrati = [x**2 for x in range(9) if x % 2 == 0 else x + 3]"
   ]
  },
  {
   "cell_type": "markdown",
   "metadata": {},
   "source": [
    "Il codice qui sopra restituisce un Syntax Error.\n",
    "\n",
    "Per aggiungere l'else, bisogna spostare il blocco di condizioni (if-else) all'inizio e il ciclo for alla fine dell'espressione come nel codice seguente:"
   ]
  },
  {
   "cell_type": "code",
   "execution_count": 10,
   "metadata": {},
   "outputs": [
    {
     "name": "stdout",
     "output_type": "stream",
     "text": [
      "[0, 4, 4, 6, 16, 8, 36, 10, 64]\n"
     ]
    }
   ],
   "source": [
    "quadrati = [x**2 if x % 2 == 0 else x + 3 for x in range(9)]\n",
    "print(quadrati)"
   ]
  },
  {
   "cell_type": "code",
   "execution_count": null,
   "metadata": {},
   "outputs": [],
   "source": [
    "'''\n",
    "Definisci una funzione lambda che accetta una stringa e restituisce la stessa stringa convertita in maiuscolo.\n",
    "Usa questa funzione per trasformare tutte le parole di una lista in maiuscolo.\n",
    "\n",
    "'''\n"
   ]
  },
  {
   "cell_type": "code",
   "execution_count": null,
   "metadata": {},
   "outputs": [],
   "source": [
    "'''\n",
    "Definisci una funzione lambda che accetta un numero reale e restituisce il quadrato di quel numero.\n",
    "Usa questa funzione per calcolare il quadrato di tutti i numeri in una lista.\n",
    "\n",
    "'''"
   ]
  },
  {
   "cell_type": "code",
   "execution_count": null,
   "metadata": {},
   "outputs": [],
   "source": [
    "'''\n",
    "Definisci una funzione lambda che accetta una stringa e verifica se la lunghezza della stringa è maggiore di 5.\n",
    "Usa questa funzione per filtrare una lista di parole, mantenendo solo quelle più lunghe di 5 caratteri.\n",
    "'''"
   ]
  },
  {
   "cell_type": "code",
   "execution_count": null,
   "metadata": {},
   "outputs": [],
   "source": [
    "'''\n",
    "Realizza il seguente programma, usando list comprehension.\n",
    "Dalla lista di stringhe fornita, crea una nuova lista che contiene solo le parole con più di 5 caratteri.\n",
    "'''\n",
    "parole = [\"computer\", \"Python\", \"AI\", \"programmazione\", \"codice\"]\n"
   ]
  },
  {
   "cell_type": "code",
   "execution_count": null,
   "metadata": {},
   "outputs": [],
   "source": [
    "'''\n",
    "Realizza il seguente programma, usando list comprehension.\n",
    "Data una lista di stringhe, crea una nuova lista in cui ogni stringa è trasformata in maiuscolo e con il numero di caratteri accodato.\n",
    "Ad esempio, se la stringa è \"ciao\", la nuova stringa sarà \"CIAO (4)\".\n",
    "\n",
    "'''\n"
   ]
  },
  {
   "cell_type": "code",
   "execution_count": null,
   "metadata": {},
   "outputs": [],
   "source": [
    "'''\n",
    "Realizza il seguente programma, usando list comprehension.\n",
    "Data una lista di stringhe, crea una nuova lista in cui ogni stringa ha tutte le vocali rimosse.\n",
    "Ad esempio, se la stringa è \"ciao\", la nuova stringa sarà \"c\".\n",
    "\n",
    "\n",
    "'''"
   ]
  }
 ],
 "metadata": {
  "kernelspec": {
   "display_name": "Python 3",
   "language": "python",
   "name": "python3"
  },
  "language_info": {
   "codemirror_mode": {
    "name": "ipython",
    "version": 3
   },
   "file_extension": ".py",
   "mimetype": "text/x-python",
   "name": "python",
   "nbconvert_exporter": "python",
   "pygments_lexer": "ipython3",
   "version": "3.10.8"
  }
 },
 "nbformat": 4,
 "nbformat_minor": 2
}
