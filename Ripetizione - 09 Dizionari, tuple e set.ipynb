{
 "cells": [
  {
   "cell_type": "markdown",
   "metadata": {},
   "source": [
    "# Altre strutture dati\n",
    "## Tuple\n",
    "Una tupla è una sequenza ordinata e non modificabile di elementi. Praticamente è come una lista di cui non possiamo modificare gli elementi (né aggiungere né rimuovere né modificare gli elementi). Possono essere usate per memorizzare informazioni correlate tra loro come nell'esempio seguente:"
   ]
  },
  {
   "cell_type": "code",
   "execution_count": null,
   "metadata": {},
   "outputs": [],
   "source": [
    "posizione = (13.4125, 103.866667)\n",
    "print(\"Latitudine:\", posizione[0])\n",
    "print(\"Longitudine:\", posizione[1])"
   ]
  },
  {
   "cell_type": "markdown",
   "metadata": {},
   "source": [
    "Abbiamo già incontrato le tuple nel caso di funzioni che restituiscono più valori."
   ]
  },
  {
   "cell_type": "code",
   "execution_count": null,
   "metadata": {},
   "outputs": [],
   "source": [
    "def rettangolo(lato1, lato2):\n",
    "\treturn lato1 * lato2, (lato1 + lato2) * 2\n",
    "\n",
    "# chiamata 1\n",
    "risultato = rettangolo(4,5)\n",
    "\n",
    "# chiamata 2\n",
    "area, perimetro = rettangolo(4,5)"
   ]
  },
  {
   "cell_type": "markdown",
   "metadata": {},
   "source": [
    "In \"chiamata 1\" la variabile chiamata `risultato` è proprio una tupla che contiene due valori.\n",
    "\n",
    "In \"chiamata 2\" abbiamo fatto un'operazione che si chiama **unpacking della tupla** cioè abbiamo estratto dalla tupla due valori (perché la tupla è di lunghezza pari a due cioè contiene due elementi).\n",
    "## Dizionari\n",
    "Un dizionario è usato per memorizzare coppie chiave, valore. Per esempio, questo dizionario memorizza elementi chimici e il loro numero atomico."
   ]
  },
  {
   "cell_type": "code",
   "execution_count": null,
   "metadata": {},
   "outputs": [],
   "source": [
    "elementi = {\"idrogeno\": 1, \"elio\": 2, \"carbonio\": 6}"
   ]
  },
  {
   "cell_type": "markdown",
   "metadata": {},
   "source": [
    "La chiave e il valore sono separati dai due punti, le varie coppie sono separate da virgola come nella struttura generale seguente:\n",
    "\n",
    "```python\n",
    "{chiave1: valore1, chiave2: valore2, chiave3: valore3, chiave4: valore4, ...}\n",
    "```"
   ]
  },
  {
   "cell_type": "code",
   "execution_count": null,
   "metadata": {},
   "outputs": [],
   "source": [
    "dizionario_random = {\"abc\": 1, 5: \"ciao\"}"
   ]
  },
  {
   "cell_type": "markdown",
   "metadata": {},
   "source": [
    "Possiamo accedere ai valori di un dizionario usando le parentesi quadre attorno al nome della chiave come:"
   ]
  },
  {
   "cell_type": "code",
   "execution_count": null,
   "metadata": {},
   "outputs": [],
   "source": [
    "nome_dizionario[chiave]"
   ]
  },
  {
   "cell_type": "markdown",
   "metadata": {},
   "source": [
    "Per esempio il valore di `dizionario_random[\"abc\"]` è 1 e il valore di `dizionario_random[5]` è \"ciao\".\n",
    "\n",
    "Altro esempio:"
   ]
  },
  {
   "cell_type": "code",
   "execution_count": null,
   "metadata": {},
   "outputs": [],
   "source": [
    "print(elementi[\"elio\"])"
   ]
  },
  {
   "cell_type": "markdown",
   "metadata": {},
   "source": [
    "Sarà stampato il valore 2 sullo schermo.\n",
    "\n",
    "Possiamo inserire un nuovo elemento nel dizionario in questo modo:"
   ]
  },
  {
   "cell_type": "code",
   "execution_count": null,
   "metadata": {},
   "outputs": [],
   "source": [
    "elementi[\"litio\"] = 3"
   ]
  },
  {
   "cell_type": "markdown",
   "metadata": {},
   "source": [
    "Se eseguiamo `print(elementi)`, l'output sarà:\n",
    "```python\n",
    "{'idrogeno': 1, 'carbonio': 6, 'elio': 2, 'litio': 3}\n",
    "```\n",
    "Attenzione a cercare chiavi non presenti nel dizionario: se proviamo a scrivere `elementi['dilitio']` avremo un \"KeyError\".\n",
    "\n",
    "Possiamo controllare se una chiave è presente in un dizionario usando l'operatore `in`. \n",
    "\n",
    "Esempio:"
   ]
  },
  {
   "cell_type": "code",
   "execution_count": null,
   "metadata": {},
   "outputs": [],
   "source": [
    "print(\"carbonio\" in elementi)\n",
    "print(\"dilitio\" in elementi)"
   ]
  },
  {
   "cell_type": "markdown",
   "metadata": {},
   "source": [
    "### Metodi per dizionari\n",
    "- Metodo .get(): ci permette di accedere a una chiave del dizionario in modo sicuro. Accetta un parametro obbligatorio (la chiave da cercare) e un parametro opzionale cioè un messaggio da mostrare se la chiave cercata non è presente nel dizionario. Se la chiave è presente nel dizionario restituisce il valore associato a quella chiave altrimenti restituisce il messaggio (il secondo parametro passato al metodo)."
   ]
  },
  {
   "cell_type": "code",
   "execution_count": null,
   "metadata": {},
   "outputs": [],
   "source": [
    "elementi.get(\"dilitio\",\"Elemento non presente\")\n",
    "elementi.get(\"carbonio\",\"Elemento non presente\")"
   ]
  },
  {
   "cell_type": "markdown",
   "metadata": {},
   "source": [
    "- Metodo .pop(): ci permette di eliminare una coppia chiave:valore in modo sicuro. Accetta un parametro obbligatorio (la chiave da cercare) e un parametro opzionale cioè un messaggio da mostrare se la chiave cercata non è presente nel dizionario. Se la chiave è presente nel dizionario viene eliminata la corrispondente chiave:valore e viene restituito il corrispondente valore altrimenti viene restituito il messaggio (il secondo parametro passato al metodo)."
   ]
  },
  {
   "cell_type": "code",
   "execution_count": null,
   "metadata": {},
   "outputs": [],
   "source": [
    "elementi.pop(\"dilitio\",\"Elemento non presente\")\n",
    "elementi.pop(\"carbonio\",\"Elemento non presente\")"
   ]
  },
  {
   "cell_type": "markdown",
   "metadata": {},
   "source": [
    "- Metodo .update(): permette di agggiungere al dizionario altre coppie chiave:valore passate come parametro. **Come parametro va passato un dizionario**."
   ]
  },
  {
   "cell_type": "code",
   "execution_count": null,
   "metadata": {},
   "outputs": [],
   "source": [
    "elementi.update({\"azoto\": 7, \"ossigeno\": 8})"
   ]
  },
  {
   "cell_type": "markdown",
   "metadata": {},
   "source": [
    "## Iterare sui dizionari\n",
    "\n",
    "Possiamo iterare sulle chiavi del dizionario usando il metodo `.keys()`:"
   ]
  },
  {
   "cell_type": "code",
   "execution_count": null,
   "metadata": {},
   "outputs": [],
   "source": [
    "for elemento in elementi.keys():\n",
    "\tprint(elemento)"
   ]
  },
  {
   "cell_type": "markdown",
   "metadata": {},
   "source": [
    "L'output sarà l'elenco di tutte le chiavi del dizionario.\n",
    "\n",
    "Possiamo iterare sui valori del dizionario usando il metodo `.values()`:"
   ]
  },
  {
   "cell_type": "code",
   "execution_count": null,
   "metadata": {},
   "outputs": [],
   "source": [
    "for numero in elementi.values():\n",
    "\tprint(numero)"
   ]
  },
  {
   "cell_type": "markdown",
   "metadata": {},
   "source": [
    "L'output sarà l'elenco dei numeri atomici presenti nel dizionario (cioè i valori delle coppie chiave:valore).\n",
    "\n",
    "Possiamo iterare su chiavi e valori insieme usando il metodo `.items()`:"
   ]
  },
  {
   "cell_type": "code",
   "execution_count": null,
   "metadata": {},
   "outputs": [],
   "source": [
    "for chiave,valore in elementi.items():\n",
    "\tprint(\"L'elemento {} ha numero atomico pari a {}.\".format(chiave,valore))"
   ]
  },
  {
   "cell_type": "markdown",
   "metadata": {},
   "source": [
    "### Esercizi"
   ]
  },
  {
   "cell_type": "code",
   "execution_count": null,
   "metadata": {},
   "outputs": [],
   "source": [
    "'''\n",
    "Crea un dizionario a partire da questa tabella che contiene la popolazione in milioni per alcune città:\n",
    "\n",
    "Città \t\tPopolazione\n",
    "Shanghai  \t17.8  \n",
    "Istanbul  \t13.3  \n",
    "Karachi   \t13.0 \n",
    "Mumbai  \t\t12.5  \n",
    "\n",
    "- Aggiungi una coppia chiave:valore per la popolazione di Roma\n",
    "- Aggiungi con una sola istruzione le coppie chiave:valore per la popolazione di 5 città a tua scelta\n",
    "- Stampa in modo sicuro il valore della popolazione di Bari prevedendo un messaggio di errore se la chiave non è presente nel dizionario\n",
    "- Rimuovi in modo sicuro i dati relativi alla città di Karachi prevedendo un messaggio di errore se la chiave non è presente nel dizionario\n",
    "- Stampa per ogni città un messaggio del tipo: \"[città] ha una popolazione pari a [popolazione]\" (fai in modo che la popolazione sia pari al valore reale cioè con il corretto numero di zeri)\n",
    "- Calcola il valore minimo, il valore massimo e la media della popolazione e stampa il nome della città con valore minimo e il relativo valore minimo, il nome della città con valore massimo e il relativo valore massimo e la media all'interno di una stringa.\n",
    "- Riorganizza il codice del punto precedente in modo che sia all'interno di una funzione che accetta come parametro un dizionario e restituisce i valori da calcolare. Effettua una chiamata di esempio della funzione.\n",
    "'''"
   ]
  },
  {
   "cell_type": "markdown",
   "metadata": {},
   "source": [
    "## Set\n",
    "\n",
    "I set sono una struttura dati **non-ordinata**, **immutabile** e **non-indicizzata**. Inoltre, non ci possono essere due valori uguali all'interno di un set.\n",
    "\n",
    "I set si definiscono con le parentesi graffe oppure usando la funzione `set()` su un iterabile (cioè su una lista o su una stringa)."
   ]
  },
  {
   "cell_type": "code",
   "execution_count": null,
   "metadata": {},
   "outputs": [],
   "source": [
    "x = {42, 'foo', 3.14159, None}\n",
    "\n",
    "x = set([42, 'foo', 3.14159, None])"
   ]
  },
  {
   "cell_type": "markdown",
   "metadata": {},
   "source": [
    "I duplicati non sono ammessi."
   ]
  },
  {
   "cell_type": "code",
   "execution_count": null,
   "metadata": {},
   "outputs": [],
   "source": [
    "x = {42, 'foo', 3.14159, 42, None}\n",
    "print(x)"
   ]
  },
  {
   "cell_type": "markdown",
   "metadata": {},
   "source": [
    "Si può usare la funzione `len()` che restituisce il numero di elementi contenuti nel set.\n",
    "\n",
    "Non si possono usare gli indici per accedere agli elementi di un set. Un possibile modo per stampare gli elementi uno a uno può essere questo:"
   ]
  },
  {
   "cell_type": "code",
   "execution_count": null,
   "metadata": {},
   "outputs": [],
   "source": [
    "for elemento in x:\n",
    "    print(elemento)"
   ]
  },
  {
   "cell_type": "markdown",
   "metadata": {},
   "source": [
    "Essendo una struttura dati immutabile, non puoi modificare gli elementi ma puoi solo aggiungerne di nuovi o eliminarne alcuni.\n",
    "\n",
    "Per aggiungere nuovi elementi puoi usare il metodo `.add()` oppure il metodo `.update()`."
   ]
  },
  {
   "cell_type": "code",
   "execution_count": null,
   "metadata": {},
   "outputs": [],
   "source": [
    "frutta = {\"mela\", \"banana\", \"ciliegia\"}\n",
    "frutta.add(\"arancia\")\n",
    "print(frutta)"
   ]
  },
  {
   "cell_type": "code",
   "execution_count": null,
   "metadata": {},
   "outputs": [],
   "source": [
    "tropicale = {\"ananas\", \"mango\", \"papaya\"}\n",
    "frutta.update(tropicale)\n",
    "print(frutta)"
   ]
  },
  {
   "cell_type": "markdown",
   "metadata": {},
   "source": [
    "Il metodo `update()` accetta un qualunque elemento iterabile (non solo un altro set ma anche una lista, una tupla o un dizionario)."
   ]
  },
  {
   "cell_type": "code",
   "execution_count": null,
   "metadata": {},
   "outputs": [],
   "source": [
    "frutta.update([\"kiwi\",\"anguria\"])\n",
    "print(frutta)"
   ]
  },
  {
   "cell_type": "markdown",
   "metadata": {},
   "source": [
    "Per rimuovere un elemento si può usare il metodo `remove()` oppure il metodo `discard()`. La differenza è che se usiamo il metodo `.remove()` e l'elemento non è presente nel set allora il metodo restituisce un errore, `discard()` non restituisce mai alcun errore. Si può usare anche il metodo `.pop()` che elimina un elemento a caso."
   ]
  },
  {
   "cell_type": "code",
   "execution_count": null,
   "metadata": {},
   "outputs": [],
   "source": [
    "frutta.remove(\"banana\")\n",
    "print(frutta)"
   ]
  },
  {
   "cell_type": "code",
   "execution_count": null,
   "metadata": {},
   "outputs": [],
   "source": [
    "frutta.remove(\"banana\")\n",
    "print(frutta)"
   ]
  },
  {
   "cell_type": "code",
   "execution_count": null,
   "metadata": {},
   "outputs": [],
   "source": [
    "frutta.discard(\"banana\")\n",
    "print(frutta)"
   ]
  },
  {
   "cell_type": "code",
   "execution_count": null,
   "metadata": {},
   "outputs": [],
   "source": [
    "frutta.pop()\n",
    "print(frutta)"
   ]
  },
  {
   "cell_type": "markdown",
   "metadata": {},
   "source": [
    "Con il metodo `clear()` svuotiamo il set, con la parola chiave `del()` cancelliamo il set e quindi rimuoviamo lo spazio di memoria allocato alla variabile."
   ]
  },
  {
   "cell_type": "code",
   "execution_count": null,
   "metadata": {},
   "outputs": [],
   "source": [
    "frutta.clear()\n",
    "print(frutta)"
   ]
  },
  {
   "cell_type": "code",
   "execution_count": null,
   "metadata": {},
   "outputs": [],
   "source": [
    "del frutta\n",
    "print(frutta)"
   ]
  },
  {
   "cell_type": "markdown",
   "metadata": {},
   "source": [
    "Dato che set in italiano significa insieme, si possono effettuare tutte le operazioni insiemistiche di base.\n",
    "\n",
    "- `union()` restituisce un nuovo set che contiene gli elementi presenti in entrambi i set\n",
    "- `intersection()` restituisce un nuovo set contenente gli elementi presenti in entrambi i set\n",
    "- `symmetric_difference()` restituisce un nuovo set contenente gli elementi che non sono presenti in entrambi i set"
   ]
  },
  {
   "cell_type": "code",
   "execution_count": null,
   "metadata": {},
   "outputs": [],
   "source": [
    "set1 = {\"a\", \"b\" , \"c\"}\n",
    "set2 = {1, 2, 3}\n",
    "\n",
    "set3 = set1.union(set2)\n",
    "print(set3)"
   ]
  },
  {
   "cell_type": "code",
   "execution_count": null,
   "metadata": {},
   "outputs": [],
   "source": [
    "x = {\"apple\", \"banana\", \"cherry\"}\n",
    "y = {\"google\", \"microsoft\", \"apple\"}\n",
    "\n",
    "z = x.intersection(y)\n",
    "\n",
    "print(z)"
   ]
  },
  {
   "cell_type": "code",
   "execution_count": null,
   "metadata": {},
   "outputs": [],
   "source": [
    "x = {\"apple\", \"banana\", \"cherry\"}\n",
    "y = {\"google\", \"microsoft\", \"apple\"}\n",
    "\n",
    "z = x.symmetric_difference(y)\n",
    "\n",
    "print(z)"
   ]
  },
  {
   "cell_type": "markdown",
   "metadata": {},
   "source": [
    "## Esercizi"
   ]
  },
  {
   "cell_type": "code",
   "execution_count": null,
   "metadata": {},
   "outputs": [],
   "source": [
    "\"\"\"\n",
    "Scrivi un programma che chiede in input una stringa e controlla se è un pangramma. Un pangramma è una stringa che contiene tutte le lettere dell'alfabeto.\n",
    "\"\"\""
   ]
  },
  {
   "cell_type": "code",
   "execution_count": null,
   "metadata": {},
   "outputs": [],
   "source": [
    "\"\"\"\n",
    "Scrivi un programma che chiede in input una stringa e controlla se la stringa è scritta in binario.\n",
    "\"\"\""
   ]
  }
 ],
 "metadata": {
  "language_info": {
   "name": "python"
  }
 },
 "nbformat": 4,
 "nbformat_minor": 2
}
